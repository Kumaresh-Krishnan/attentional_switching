{
 "cells": [
  {
   "cell_type": "markdown",
   "id": "2d9c2c3e",
   "metadata": {},
   "source": [
    "# Analysis Guide For Attentional Switching In Larval Zebrafish Paper"
   ]
  },
  {
   "cell_type": "markdown",
   "id": "96811002",
   "metadata": {},
   "source": [
    "This is intended as a cursory guide. Updates will be made to the GitHub repository for better accessibility and minimal user changes. The current instruction set may include places where file paths need to be modified directly in the code."
   ]
  },
  {
   "cell_type": "markdown",
   "id": "ed34ed95",
   "metadata": {},
   "source": [
    "## Directory structure for the repository"
   ]
  },
  {
   "cell_type": "markdown",
   "id": "159ad47a",
   "metadata": {},
   "source": [
    "The repository contains four folder:\n",
    "\n",
    "Repository:\n",
    "- data (all processed data files after bout identification from zebrafish swimming)\n",
    "- code (all python scripts that can be run as standalone or with functions that can be imported into a notebook)\n",
    "- notebook (this analysis guide)\n",
    "- results (empty but can be used to save your results)"
   ]
  },
  {
   "cell_type": "markdown",
   "id": "dfd62420",
   "metadata": {},
   "source": [
    "## Data files"
   ]
  },
  {
   "cell_type": "markdown",
   "id": "77573ffd",
   "metadata": {},
   "source": [
    "These are the different data file types currently stored in the repository:\n",
    "\n",
    "- \\<qualifiers\\>data_bout_rate_pre_120_post_30.mat\n",
    "- \\<qualifiers\\>data_avg_radius_pre_120_post_30.mat\n",
    "- \\<qualifiers\\>data_angles_30_150_361.mat\n",
    "- \\<qualifiers\\>data_angles_150_180_361.mat\n",
    "- \\<qualifiers\\>data_params.mat\n",
    "- \\<qualifiers\\>data_radius_pre_120_post_30.mat\n",
    "- \\<qualifiers\\>data_tfb.mat\n",
    "\n",
    "\\<qualifiers\\> indicate the experiment from which the data is sourced (Ex. baseline, scn, slc, sleep, ctrl, expt)"
   ]
  },
  {
   "cell_type": "markdown",
   "id": "6a36c81d",
   "metadata": {},
   "source": [
    "## Figure Generation"
   ]
  },
  {
   "cell_type": "markdown",
   "id": "d53548e6-216e-4af1-abc2-790c01534f43",
   "metadata": {},
   "source": [
    "**Note** For all plots: Results will typically be saved in the 'results' folder. If you want the image displayed in the jupyter notebook, go to the relevant python script and add a plt.show() command"
   ]
  },
  {
   "cell_type": "markdown",
   "id": "fe13cd5c",
   "metadata": {},
   "source": [
    "**Figure 1:** Run the script generator_f1.py To recreate plots associated with panels 1B, 1C, 1E, 1F, 1G"
   ]
  },
  {
   "cell_type": "markdown",
   "id": "3eb5c292",
   "metadata": {},
   "source": [
    "**Figure 1D:**"
   ]
  },
  {
   "cell_type": "code",
   "execution_count": null,
   "id": "087437f9",
   "metadata": {},
   "outputs": [],
   "source": [
    "import sys\n",
    "sys.path.append('../code')\n",
    "from analysis_multitrial import quickDist\n",
    "\n",
    "pre = 120; post = 30\n",
    "experiment = 'None'\n",
    "mutant = False\n",
    "data = f'data_bout_rate_pre_{pre}_post_{post}.mat'\n",
    "model = False\n",
    "\n",
    "quickDist(experiment, data, pre, post, model)"
   ]
  },
  {
   "cell_type": "markdown",
   "id": "93b30d46-2f50-4f0f-9323-ee24c50480dd",
   "metadata": {},
   "source": [
    "**Figure 1H:**"
   ]
  },
  {
   "cell_type": "code",
   "execution_count": 11,
   "id": "378aec7f-67cd-40b0-99e7-f6e77d80d4bb",
   "metadata": {},
   "outputs": [],
   "source": [
    "import sys\n",
    "sys.path.append('../code')\n",
    "from binomial import binomial\n",
    "\n",
    "binomial()"
   ]
  },
  {
   "cell_type": "markdown",
   "id": "957fa54c-bfcf-4377-907a-a3da086a51d2",
   "metadata": {},
   "source": [
    "**Figure 2A, S2 K,L,M:**"
   ]
  },
  {
   "cell_type": "code",
   "execution_count": null,
   "id": "3d86216e-f2f1-483c-8f8c-30c20cc48c65",
   "metadata": {},
   "outputs": [],
   "source": [
    "import sys\n",
    "sys.path.append('../code')\n",
    "from analysis_multitrial import plotData, plotStimRateCorrelation, plotStimBaselineCorrelation\n",
    "\n",
    "pre = 120; post = 30\n",
    "experiment = 'None'\n",
    "mutant = False\n",
    "data = f'data_bout_rate_pre_{pre}_post_{post}.mat'\n",
    "model = False\n",
    "\n",
    "plotData(experiment, data, pre, post, model)\n",
    "plotStimRateCorrelation(experiment, data, pre, post, model)\n",
    "plotStimBaselineCorrelation(experiment, data, pre, post, model)\n",
    "\n",
    "# For 2A Left\n",
    "data = f'baseline_data_bout_rate_pre_{pre}_post_{post}.mat'\n",
    "plotData(experiment, data, pre, post, model)"
   ]
  },
  {
   "cell_type": "markdown",
   "id": "10124cee-79ea-42dc-825c-3c091a7a7908",
   "metadata": {},
   "source": [
    "**Figure 2B:**"
   ]
  },
  {
   "cell_type": "markdown",
   "id": "8a8fc38e-f7af-4920-9948-862d95f11f8a",
   "metadata": {},
   "source": [
    "The script hmmodel_selection.py script contains the mixture model computation. This will be formatted further for easier accessibility."
   ]
  },
  {
   "cell_type": "markdown",
   "id": "d6af2d8c-9c6c-4931-8b76-53cc686296e0",
   "metadata": {},
   "source": [
    "**Figure 2C:**"
   ]
  },
  {
   "cell_type": "code",
   "execution_count": null,
   "id": "958c1e6f-8a8c-4860-b85a-21cd38499cda",
   "metadata": {},
   "outputs": [],
   "source": [
    "import sys\n",
    "sys.path.append('../code')\n",
    "from perf_model import model, bars\n",
    "\n",
    "data = f'data_bout_rate_pre_{pre}_post_{post}.mat'\n",
    "\n",
    "save_name = 'fit_params.mat'\n",
    "model(data, save_name)\n",
    "bars(save_name) # Loads data saved by the model code\n",
    "\n",
    "# For 2C left\n",
    "data = f'baseline_data_bout_rate_pre_{pre}_post_{post}.mat'\n",
    "\n",
    "save_name = 'base_fit_params.mat'\n",
    "model(data, save_name)\n",
    "bars(save_name) # Loads data saved by the model code"
   ]
  },
  {
   "cell_type": "markdown",
   "id": "3194073e-62cd-4d04-930c-ccfa6046f670",
   "metadata": {},
   "source": [
    "**Figure 2D:**"
   ]
  },
  {
   "cell_type": "markdown",
   "id": "3e1ec139-9aa3-4392-ab51-d69f108c6e50",
   "metadata": {},
   "source": [
    "Change lines 147, 155, 205, 206 in analysis_multitrial_turns_split.py based on attentive/inattentive data"
   ]
  },
  {
   "cell_type": "code",
   "execution_count": null,
   "id": "568351a2-eb49-43bd-80bd-c8aba5db4568",
   "metadata": {},
   "outputs": [],
   "source": [
    "import sys\n",
    "sys.path.append('../code')\n",
    "from analysis_multitrial_turns_split import plotData\n",
    "\n",
    "start = 150; end = 180\n",
    "\n",
    "data = f'attentive_data_angles_{start}_{end}_361'\n",
    "plotData(data, start, end, True)\n",
    "data = f'inattentive_data_angles_{start}_{end}_361'\n",
    "plotData(data, start, end, True)"
   ]
  },
  {
   "cell_type": "markdown",
   "id": "a798d4ca-bf3d-4816-86f0-0d5c463a997b",
   "metadata": {},
   "source": [
    "**Figure 2E:**"
   ]
  },
  {
   "cell_type": "code",
   "execution_count": null,
   "id": "36a6862a-e51a-46ce-946f-697c469b134a",
   "metadata": {},
   "outputs": [],
   "source": [
    "import sys\n",
    "sys.path.append('../code')\n",
    "from analysis_radius_performance_avg import plotData\n",
    "\n",
    "data = f'data_avg_radius_rate_pre_{pre}_post_{post}.mat'\n",
    "plotData(data, pre, post) # Save file name must be changed\n",
    "\n",
    "data = f'baseline_data_avg_radius_rate_pre_{pre}_post_{post}.mat'\n",
    "plotData(data, pre, post) # Save file name must be changed otherwise it will overwrite above created file!"
   ]
  },
  {
   "cell_type": "markdown",
   "id": "283dbda9-e88a-456e-884b-e398fb67f763",
   "metadata": {},
   "source": [
    "**Figure 2F:**"
   ]
  },
  {
   "cell_type": "markdown",
   "id": "73429407-ba73-4d8d-ab4e-2fa7d0eaf0e7",
   "metadata": {},
   "source": [
    "Run the python script analysis_radius_strip.py to generate the associated plot"
   ]
  },
  {
   "cell_type": "markdown",
   "id": "9dc48d1d-3a09-492c-8913-f8857626515b",
   "metadata": {},
   "source": [
    "**Figure 3A:**"
   ]
  },
  {
   "cell_type": "code",
   "execution_count": null,
   "id": "04335ecc-b322-463c-804b-00490bd91a41",
   "metadata": {},
   "outputs": [],
   "source": [
    "import sys\n",
    "sys.path.append('../code')\n",
    "from perf_model import model, bars\n",
    "\n",
    "prefixes = ['expt_a_a', 'expt_a_b', 'expt_b_a', 'expt_b_b']\n",
    "\n",
    "for prefix in prefixes:\n",
    "    data = f'{prefix}_data_bout_rate_pre_{pre}_post_{post}.mat'\n",
    "    save_name = f'{prefix}_fit_params.mat'\n",
    "    model(data, save_name)\n",
    "    bars(save_name)"
   ]
  },
  {
   "cell_type": "markdown",
   "id": "55197fe5-561f-41e2-9071-54c99f1757f2",
   "metadata": {},
   "source": [
    "**Figure 3B:**"
   ]
  },
  {
   "cell_type": "code",
   "execution_count": null,
   "id": "33098f30-a373-4295-8209-720e1359dfed",
   "metadata": {},
   "outputs": [],
   "source": [
    "import sys\n",
    "sys.path.append('../code')\n",
    "from analysis_radius_performance_avg import plotData\n",
    "\n",
    "prefixes = ['expt_a_a', 'expt_a_b', 'expt_b_a', 'expt_b_b']\n",
    "\n",
    "for prefix in prefixes:\n",
    "    data = f'{prefix}_data_avg_radius_rate_pre_{pre}_post_{post}.mat'\n",
    "    plotData(data, pre, post)"
   ]
  },
  {
   "cell_type": "markdown",
   "id": "328b48d9-d465-4957-bec0-f28371452c9e",
   "metadata": {},
   "source": [
    "**Figure 4A-J:**"
   ]
  },
  {
   "cell_type": "code",
   "execution_count": null,
   "id": "e6351a3e-5f6d-4d88-9f54-05801a82930a",
   "metadata": {},
   "outputs": [],
   "source": [
    "import sys\n",
    "sys.path.append('../code')\n",
    "from perf_model import model, bars\n",
    "\n",
    "prefixes = ['ctrl_50', 'expt_50', 'expt_loom', 'ctrl_sleep', 'expt_sleep', 'scn_wt', 'scn_mut', 'slc_wt', 'slc_mut']\n",
    "\n",
    "for prefix in prefixes:\n",
    "    data = f'{prefix}_data_bout_rate_pre_{pre}_post_{post}.mat'\n",
    "    save_name = f'{prefix}_fit_params.mat'\n",
    "    model(data, save_name)\n",
    "    bars(save_name)"
   ]
  },
  {
   "cell_type": "markdown",
   "id": "7119a7d8-f9c4-4e6c-88de-d5806b2010fa",
   "metadata": {},
   "source": [
    "**Figure 4K-O:**"
   ]
  },
  {
   "cell_type": "code",
   "execution_count": null,
   "id": "daf62893-c58b-43a8-8464-4396a3b2f1f5",
   "metadata": {},
   "outputs": [],
   "source": [
    "import sys\n",
    "sys.path.append('../code')\n",
    "from analysis_radius_performance_avg import plotData\n",
    "\n",
    "prefixes = ['ctrl_50', 'expt_50', 'expt_loom', 'ctrl_sleep', 'expt_sleep', 'scn_wt', 'scn_mut', 'slc_wt', 'slc_mut']\n",
    "\n",
    "for prefix in prefixes:\n",
    "    data = f'{prefix}_data_avg_radius_rate_pre_{pre}_post_{post}.mat'\n",
    "    plotData(data, pre, post)\n",
    "\n",
    "# These generate the individual fits and bar plots. These are shown side by side in the paper and can be combined using\n",
    "# the combineBars(e1, e2, label) function from generator_f4.py"
   ]
  },
  {
   "cell_type": "markdown",
   "id": "45dbe608-6902-4029-9c2c-8f049301f251",
   "metadata": {},
   "source": [
    "**Figure S2A:**"
   ]
  },
  {
   "cell_type": "markdown",
   "id": "33cd9d33-ea90-4aa1-a30b-089cf9dabea8",
   "metadata": {},
   "source": [
    "Run the python script analysis_markov_generator.py to create the relevant plots for Figure S2A."
   ]
  },
  {
   "cell_type": "markdown",
   "id": "b06166c0-2f38-4cc7-b1d5-93f8be386e97",
   "metadata": {},
   "source": [
    "**Fig S2 B-E, K-M:**"
   ]
  },
  {
   "cell_type": "code",
   "execution_count": null,
   "id": "ddae08e9-e526-47c5-8c79-ef8d75da95f2",
   "metadata": {},
   "outputs": [],
   "source": [
    "import sys\n",
    "sys.path.append('../code')\n",
    "from analysis_multitrial import plotData, plotStimRateCorrelation, plotStimBaselineCorrelation\n",
    "from perf_model import model, bars\n",
    "\n",
    "pre = 120; post = 30\n",
    "experiment = 'None'\n",
    "mutant = False\n",
    "model = True\n",
    "\n",
    "#For S2B\n",
    "data = f'ddm_attention_base_data_bout_rate_pre_{pre}_post_{post}.mat'\n",
    "plotData(experiment, data, pre, post, model) # Also S2K\n",
    "plotStimRateCorrelation(experiment, data, pre, post, model) # Also S2L\n",
    "plotStimBaselineCorrelation(experiment, data, pre, post, model) # Also S2M\n",
    "save_name = f'B_fit_params.mat'\n",
    "model(data, save_name)\n",
    "bars(save_name)\n",
    "\n",
    "#For S2C\n",
    "data = f'ddm_attention_data_bout_rate_pre_{pre}_post_{post}.mat'\n",
    "plotData(experiment, data, pre, post, model) # Also S2K\n",
    "plotStimRateCorrelation(experiment, data, pre, post, model) # Also S2L\n",
    "plotStimBaselineCorrelation(experiment, data, pre, post, model) # Also S2M\n",
    "save_name = f'C_fit_params.mat'\n",
    "model(data, save_name)\n",
    "bars(save_name)\n",
    "\n",
    "# For S2D\n",
    "data = f'ddm_baseline_data_bout_rate_pre_{pre}_post_{post}.mat'\n",
    "plotData(experiment, data, pre, post, model)\n",
    "save_name = f'D_fit_params.mat'\n",
    "model(data, save_name)\n",
    "bars(save_name)\n",
    "\n",
    "# For S2E\n",
    "data = f'ddm_data_bout_rate_pre_{pre}_post_{post}.mat'\n",
    "plotData(experiment, data, pre, post, model)\n",
    "save_name = f'E_fit_params.mat'\n",
    "model(data, save_name)\n",
    "bars(save_name)"
   ]
  },
  {
   "cell_type": "markdown",
   "id": "0580485d-137e-4a2a-a17a-2e1e76b58556",
   "metadata": {},
   "source": [
    "## Miscellaneous"
   ]
  },
  {
   "cell_type": "markdown",
   "id": "3ac17e21-3384-463d-a16d-c486e32789d8",
   "metadata": {},
   "source": [
    "- The statistics approach for all comparisons in Figure 2 and Figure 4 can be found in stats_revised.py. The function statisticsEval() requires the bout_rate data file and the params data file for both groups being compared i.e. four input files.\n",
    "\n",
    "- All associated scripts have been shared as part of the repository and all important figures have been covered in this walk through\n",
    "\n",
    "- Please contact the authors for clarifications"
   ]
  }
 ],
 "metadata": {
  "kernelspec": {
   "display_name": "Python [conda env:base] *",
   "language": "python",
   "name": "conda-base-py"
  },
  "language_info": {
   "codemirror_mode": {
    "name": "ipython",
    "version": 3
   },
   "file_extension": ".py",
   "mimetype": "text/x-python",
   "name": "python",
   "nbconvert_exporter": "python",
   "pygments_lexer": "ipython3",
   "version": "3.9.13"
  }
 },
 "nbformat": 4,
 "nbformat_minor": 5
}
